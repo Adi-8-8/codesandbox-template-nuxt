{
  "nbformat": 4,
  "nbformat_minor": 0,
  "metadata": {
    "colab": {
      "provenance": [],
      "authorship_tag": "ABX9TyMU+gt/Z/5tZwH0Ozr7WaTm",
      "include_colab_link": true
    },
    "kernelspec": {
      "name": "python3",
      "display_name": "Python 3"
    },
    "language_info": {
      "name": "python"
    }
  },
  "cells": [
    {
      "cell_type": "markdown",
      "metadata": {
        "id": "view-in-github",
        "colab_type": "text"
      },
      "source": [
        "<a href=\"https://colab.research.google.com/github/Adi-8-8/codesandbox-template-nuxt/blob/main/CS50_Python_Course_(Harvard).ipynb\" target=\"_parent\"><img src=\"https://colab.research.google.com/assets/colab-badge.svg\" alt=\"Open In Colab\"/></a>"
      ]
    },
    {
      "cell_type": "code",
      "execution_count": 8,
      "metadata": {
        "id": "28FXXyrFr-iN",
        "colab": {
          "base_uri": "https://localhost:8080/"
        },
        "outputId": "e029e6af-6ae4-4a44-8975-b0bf62f71a5c"
      },
      "outputs": [
        {
          "output_type": "stream",
          "name": "stdout",
          "text": [
            "hello, world\n"
          ]
        }
      ],
      "source": [
        "print(\"hello, world\")\n"
      ]
    },
    {
      "cell_type": "markdown",
      "source": [],
      "metadata": {
        "id": "zMmFQhDYs8jM"
      }
    },
    {
      "cell_type": "code",
      "source": [],
      "metadata": {
        "id": "ONYiri6zsuKs"
      },
      "execution_count": null,
      "outputs": []
    }
  ]
}